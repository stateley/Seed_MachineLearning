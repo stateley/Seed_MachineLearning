{
  "cells": [
    {
      "cell_type": "code",
      "execution_count": null,
      "metadata": {
        "colab": {
          "base_uri": "https://localhost:8080/"
        },
        "id": "UOun6PaAqKCS",
        "outputId": "48a74d59-985f-4b23-b34a-d0e3af5eb4c3"
      },
      "outputs": [
        {
          "output_type": "stream",
          "name": "stdout",
          "text": [
            "Looking in indexes: https://pypi.org/simple, https://us-python.pkg.dev/colab-wheels/public/simple/\n",
            "Requirement already satisfied: pandas in /usr/local/lib/python3.8/dist-packages (1.3.5)\n",
            "Requirement already satisfied: pytz>=2017.3 in /usr/local/lib/python3.8/dist-packages (from pandas) (2022.6)\n",
            "Requirement already satisfied: python-dateutil>=2.7.3 in /usr/local/lib/python3.8/dist-packages (from pandas) (2.8.2)\n",
            "Requirement already satisfied: numpy>=1.17.3 in /usr/local/lib/python3.8/dist-packages (from pandas) (1.21.6)\n",
            "Requirement already satisfied: six>=1.5 in /usr/local/lib/python3.8/dist-packages (from python-dateutil>=2.7.3->pandas) (1.15.0)\n",
            "Looking in indexes: https://pypi.org/simple, https://us-python.pkg.dev/colab-wheels/public/simple/\n",
            "Requirement already satisfied: scikit-learn in /usr/local/lib/python3.8/dist-packages (1.0.2)\n",
            "Requirement already satisfied: scipy>=1.1.0 in /usr/local/lib/python3.8/dist-packages (from scikit-learn) (1.7.3)\n",
            "Requirement already satisfied: threadpoolctl>=2.0.0 in /usr/local/lib/python3.8/dist-packages (from scikit-learn) (3.1.0)\n",
            "Requirement already satisfied: numpy>=1.14.6 in /usr/local/lib/python3.8/dist-packages (from scikit-learn) (1.21.6)\n",
            "Requirement already satisfied: joblib>=0.11 in /usr/local/lib/python3.8/dist-packages (from scikit-learn) (1.2.0)\n"
          ]
        }
      ],
      "source": [
        "!pip install pandas\n",
        "!pip install scikit-learn"
      ]
    },
    {
      "cell_type": "code",
      "execution_count": null,
      "metadata": {
        "id": "Q7x4voSGqKCV"
      },
      "outputs": [],
      "source": [
        "## Isi nama dan NIM seluruh anggota kelompok di sini\n",
        "#   Nama    NIM\n",
        "#   Razita Amalina              1301200283\n",
        "#   Gayuh Putri Andyani         1301204050\n",
        "#   Yunolva Anis                1301204096\n",
        "#   Aufa Mutia                  1301204233\n",
        "#   \n",
        "#   "
      ]
    },
    {
      "cell_type": "code",
      "execution_count": null,
      "metadata": {
        "id": "llEZtbG_qKCW"
      },
      "outputs": [],
      "source": [
        "import numpy as np\n",
        "import pandas as pd\n",
        "from sklearn.model_selection import train_test_split\n",
        "from sklearn import tree\n"
      ]
    },
    {
      "cell_type": "markdown",
      "metadata": {
        "id": "RlnbB45eqKCX"
      },
      "source": [
        "# Load Dataset\n",
        "Inisialisasi variable, masukan NIM di sini untuk random state.\n",
        "\n",
        "Gunakan NIM salah satu anggota kelompok.\n",
        "\n"
      ]
    },
    {
      "cell_type": "code",
      "execution_count": null,
      "metadata": {
        "id": "xUhgsYBEqKCY"
      },
      "outputs": [],
      "source": [
        "filepath = \"/content/seeds_dataset.csv\"\n",
        "\n",
        "# Isi nim anda di sini\n",
        "nim = 1301204096"
      ]
    },
    {
      "cell_type": "markdown",
      "metadata": {
        "id": "0aqvflKrqKCY"
      },
      "source": [
        "Load dataset, cek konten data\n",
        "\n",
        "Target kelas: **Category** "
      ]
    },
    {
      "cell_type": "code",
      "execution_count": null,
      "metadata": {
        "colab": {
          "base_uri": "https://localhost:8080/",
          "height": 300
        },
        "id": "NQHskhKeqKCZ",
        "outputId": "7d6ce0a3-5f9e-49c3-fe3c-de0cd6ce344e"
      },
      "outputs": [
        {
          "output_type": "execute_result",
          "data": {
            "text/plain": [
              "             Area   Perimeter  Compactness  Kernel_len  Kernel_width  \\\n",
              "count  210.000000  210.000000   210.000000  210.000000    210.000000   \n",
              "mean    14.847524   14.559286     0.870999    5.628533      3.258605   \n",
              "std      2.909699    1.305959     0.023629    0.443063      0.377714   \n",
              "min     10.590000   12.410000     0.808100    4.899000      2.630000   \n",
              "25%     12.270000   13.450000     0.856900    5.262250      2.944000   \n",
              "50%     14.355000   14.320000     0.873450    5.523500      3.237000   \n",
              "75%     17.305000   15.715000     0.887775    5.979750      3.561750   \n",
              "max     21.180000   17.250000     0.918300    6.675000      4.033000   \n",
              "\n",
              "        Assymetry  Groove_len    Category  \n",
              "count  210.000000  210.000000  210.000000  \n",
              "mean     3.700201    5.408071    2.000000  \n",
              "std      1.503557    0.491480    0.818448  \n",
              "min      0.765100    4.519000    1.000000  \n",
              "25%      2.561500    5.045000    1.000000  \n",
              "50%      3.599000    5.223000    2.000000  \n",
              "75%      4.768750    5.877000    3.000000  \n",
              "max      8.456000    6.550000    3.000000  "
            ],
            "text/html": [
              "\n",
              "  <div id=\"df-47b92612-5479-41c4-a32c-5f85be3ddd99\">\n",
              "    <div class=\"colab-df-container\">\n",
              "      <div>\n",
              "<style scoped>\n",
              "    .dataframe tbody tr th:only-of-type {\n",
              "        vertical-align: middle;\n",
              "    }\n",
              "\n",
              "    .dataframe tbody tr th {\n",
              "        vertical-align: top;\n",
              "    }\n",
              "\n",
              "    .dataframe thead th {\n",
              "        text-align: right;\n",
              "    }\n",
              "</style>\n",
              "<table border=\"1\" class=\"dataframe\">\n",
              "  <thead>\n",
              "    <tr style=\"text-align: right;\">\n",
              "      <th></th>\n",
              "      <th>Area</th>\n",
              "      <th>Perimeter</th>\n",
              "      <th>Compactness</th>\n",
              "      <th>Kernel_len</th>\n",
              "      <th>Kernel_width</th>\n",
              "      <th>Assymetry</th>\n",
              "      <th>Groove_len</th>\n",
              "      <th>Category</th>\n",
              "    </tr>\n",
              "  </thead>\n",
              "  <tbody>\n",
              "    <tr>\n",
              "      <th>count</th>\n",
              "      <td>210.000000</td>\n",
              "      <td>210.000000</td>\n",
              "      <td>210.000000</td>\n",
              "      <td>210.000000</td>\n",
              "      <td>210.000000</td>\n",
              "      <td>210.000000</td>\n",
              "      <td>210.000000</td>\n",
              "      <td>210.000000</td>\n",
              "    </tr>\n",
              "    <tr>\n",
              "      <th>mean</th>\n",
              "      <td>14.847524</td>\n",
              "      <td>14.559286</td>\n",
              "      <td>0.870999</td>\n",
              "      <td>5.628533</td>\n",
              "      <td>3.258605</td>\n",
              "      <td>3.700201</td>\n",
              "      <td>5.408071</td>\n",
              "      <td>2.000000</td>\n",
              "    </tr>\n",
              "    <tr>\n",
              "      <th>std</th>\n",
              "      <td>2.909699</td>\n",
              "      <td>1.305959</td>\n",
              "      <td>0.023629</td>\n",
              "      <td>0.443063</td>\n",
              "      <td>0.377714</td>\n",
              "      <td>1.503557</td>\n",
              "      <td>0.491480</td>\n",
              "      <td>0.818448</td>\n",
              "    </tr>\n",
              "    <tr>\n",
              "      <th>min</th>\n",
              "      <td>10.590000</td>\n",
              "      <td>12.410000</td>\n",
              "      <td>0.808100</td>\n",
              "      <td>4.899000</td>\n",
              "      <td>2.630000</td>\n",
              "      <td>0.765100</td>\n",
              "      <td>4.519000</td>\n",
              "      <td>1.000000</td>\n",
              "    </tr>\n",
              "    <tr>\n",
              "      <th>25%</th>\n",
              "      <td>12.270000</td>\n",
              "      <td>13.450000</td>\n",
              "      <td>0.856900</td>\n",
              "      <td>5.262250</td>\n",
              "      <td>2.944000</td>\n",
              "      <td>2.561500</td>\n",
              "      <td>5.045000</td>\n",
              "      <td>1.000000</td>\n",
              "    </tr>\n",
              "    <tr>\n",
              "      <th>50%</th>\n",
              "      <td>14.355000</td>\n",
              "      <td>14.320000</td>\n",
              "      <td>0.873450</td>\n",
              "      <td>5.523500</td>\n",
              "      <td>3.237000</td>\n",
              "      <td>3.599000</td>\n",
              "      <td>5.223000</td>\n",
              "      <td>2.000000</td>\n",
              "    </tr>\n",
              "    <tr>\n",
              "      <th>75%</th>\n",
              "      <td>17.305000</td>\n",
              "      <td>15.715000</td>\n",
              "      <td>0.887775</td>\n",
              "      <td>5.979750</td>\n",
              "      <td>3.561750</td>\n",
              "      <td>4.768750</td>\n",
              "      <td>5.877000</td>\n",
              "      <td>3.000000</td>\n",
              "    </tr>\n",
              "    <tr>\n",
              "      <th>max</th>\n",
              "      <td>21.180000</td>\n",
              "      <td>17.250000</td>\n",
              "      <td>0.918300</td>\n",
              "      <td>6.675000</td>\n",
              "      <td>4.033000</td>\n",
              "      <td>8.456000</td>\n",
              "      <td>6.550000</td>\n",
              "      <td>3.000000</td>\n",
              "    </tr>\n",
              "  </tbody>\n",
              "</table>\n",
              "</div>\n",
              "      <button class=\"colab-df-convert\" onclick=\"convertToInteractive('df-47b92612-5479-41c4-a32c-5f85be3ddd99')\"\n",
              "              title=\"Convert this dataframe to an interactive table.\"\n",
              "              style=\"display:none;\">\n",
              "        \n",
              "  <svg xmlns=\"http://www.w3.org/2000/svg\" height=\"24px\"viewBox=\"0 0 24 24\"\n",
              "       width=\"24px\">\n",
              "    <path d=\"M0 0h24v24H0V0z\" fill=\"none\"/>\n",
              "    <path d=\"M18.56 5.44l.94 2.06.94-2.06 2.06-.94-2.06-.94-.94-2.06-.94 2.06-2.06.94zm-11 1L8.5 8.5l.94-2.06 2.06-.94-2.06-.94L8.5 2.5l-.94 2.06-2.06.94zm10 10l.94 2.06.94-2.06 2.06-.94-2.06-.94-.94-2.06-.94 2.06-2.06.94z\"/><path d=\"M17.41 7.96l-1.37-1.37c-.4-.4-.92-.59-1.43-.59-.52 0-1.04.2-1.43.59L10.3 9.45l-7.72 7.72c-.78.78-.78 2.05 0 2.83L4 21.41c.39.39.9.59 1.41.59.51 0 1.02-.2 1.41-.59l7.78-7.78 2.81-2.81c.8-.78.8-2.07 0-2.86zM5.41 20L4 18.59l7.72-7.72 1.47 1.35L5.41 20z\"/>\n",
              "  </svg>\n",
              "      </button>\n",
              "      \n",
              "  <style>\n",
              "    .colab-df-container {\n",
              "      display:flex;\n",
              "      flex-wrap:wrap;\n",
              "      gap: 12px;\n",
              "    }\n",
              "\n",
              "    .colab-df-convert {\n",
              "      background-color: #E8F0FE;\n",
              "      border: none;\n",
              "      border-radius: 50%;\n",
              "      cursor: pointer;\n",
              "      display: none;\n",
              "      fill: #1967D2;\n",
              "      height: 32px;\n",
              "      padding: 0 0 0 0;\n",
              "      width: 32px;\n",
              "    }\n",
              "\n",
              "    .colab-df-convert:hover {\n",
              "      background-color: #E2EBFA;\n",
              "      box-shadow: 0px 1px 2px rgba(60, 64, 67, 0.3), 0px 1px 3px 1px rgba(60, 64, 67, 0.15);\n",
              "      fill: #174EA6;\n",
              "    }\n",
              "\n",
              "    [theme=dark] .colab-df-convert {\n",
              "      background-color: #3B4455;\n",
              "      fill: #D2E3FC;\n",
              "    }\n",
              "\n",
              "    [theme=dark] .colab-df-convert:hover {\n",
              "      background-color: #434B5C;\n",
              "      box-shadow: 0px 1px 3px 1px rgba(0, 0, 0, 0.15);\n",
              "      filter: drop-shadow(0px 1px 2px rgba(0, 0, 0, 0.3));\n",
              "      fill: #FFFFFF;\n",
              "    }\n",
              "  </style>\n",
              "\n",
              "      <script>\n",
              "        const buttonEl =\n",
              "          document.querySelector('#df-47b92612-5479-41c4-a32c-5f85be3ddd99 button.colab-df-convert');\n",
              "        buttonEl.style.display =\n",
              "          google.colab.kernel.accessAllowed ? 'block' : 'none';\n",
              "\n",
              "        async function convertToInteractive(key) {\n",
              "          const element = document.querySelector('#df-47b92612-5479-41c4-a32c-5f85be3ddd99');\n",
              "          const dataTable =\n",
              "            await google.colab.kernel.invokeFunction('convertToInteractive',\n",
              "                                                     [key], {});\n",
              "          if (!dataTable) return;\n",
              "\n",
              "          const docLinkHtml = 'Like what you see? Visit the ' +\n",
              "            '<a target=\"_blank\" href=https://colab.research.google.com/notebooks/data_table.ipynb>data table notebook</a>'\n",
              "            + ' to learn more about interactive tables.';\n",
              "          element.innerHTML = '';\n",
              "          dataTable['output_type'] = 'display_data';\n",
              "          await google.colab.output.renderOutput(dataTable, element);\n",
              "          const docLink = document.createElement('div');\n",
              "          docLink.innerHTML = docLinkHtml;\n",
              "          element.appendChild(docLink);\n",
              "        }\n",
              "      </script>\n",
              "    </div>\n",
              "  </div>\n",
              "  "
            ]
          },
          "metadata": {},
          "execution_count": 21
        }
      ],
      "source": [
        "df = pd.read_csv(filepath, sep=\"\\t\")\n",
        "df.sample(10, random_state=nim)\n",
        "\n",
        "df.describe()"
      ]
    },
    {
      "cell_type": "markdown",
      "metadata": {
        "id": "6FVjPVmHqKCa"
      },
      "source": [
        "Training/test split **60/40**"
      ]
    },
    {
      "cell_type": "code",
      "execution_count": null,
      "metadata": {
        "colab": {
          "base_uri": "https://localhost:8080/"
        },
        "id": "ynWKNLp2qKCa",
        "outputId": "ffcdc6ed-45f5-4389-e532-7fde8e88df32"
      },
      "outputs": [
        {
          "output_type": "stream",
          "name": "stdout",
          "text": [
            "      Area  Perimeter  Compactness  Kernel_len  Kernel_width  Assymetry  \\\n",
            "171  11.55      13.10       0.8455       5.167         2.845      6.715   \n",
            "160  12.54      13.67       0.8425       5.451         2.879      3.082   \n",
            "59   12.11      13.47       0.8392       5.159         3.032      1.502   \n",
            "186  11.81      13.45       0.8198       5.413         2.716      4.898   \n",
            "98   18.17      16.26       0.8637       6.271         3.512      2.853   \n",
            "..     ...        ...          ...         ...           ...        ...   \n",
            "135  15.38      14.66       0.8990       5.477         3.465      3.600   \n",
            "168  11.35      13.12       0.8291       5.176         2.668      4.337   \n",
            "63   13.22      13.84       0.8680       5.395         3.070      4.157   \n",
            "90   20.10      16.99       0.8746       6.581         3.785      1.955   \n",
            "172  11.27      12.97       0.8419       5.088         2.763      4.309   \n",
            "\n",
            "     Groove_len  \n",
            "171       4.956  \n",
            "160       5.491  \n",
            "59        4.519  \n",
            "186       5.352  \n",
            "98        6.273  \n",
            "..          ...  \n",
            "135       5.439  \n",
            "168       5.132  \n",
            "63        5.088  \n",
            "90        6.449  \n",
            "172       5.000  \n",
            "\n",
            "[126 rows x 7 columns]\n"
          ]
        }
      ],
      "source": [
        "# X: semua kolom, Y: kolom terakhir (category)\n",
        "x = df.iloc[:,:-1]\n",
        "y = df.iloc[:,-1]\n",
        "# print(x)\n",
        "\n",
        "# print(y)\n",
        "\n",
        "\n",
        "x_train, x_test, y_train, y_test = train_test_split(x, y, train_size=0.6, random_state=nim)\n",
        "# We perform bootstrap on the train data\n",
        "# Keep test data for final accuracy testing\n",
        "len(x_train), len(x_test),len(y_train)\n"
      ]
    },
    {
      "cell_type": "markdown",
      "metadata": {
        "id": "1lpgOyH0qKCb"
      },
      "source": [
        "# Random Forest\n",
        "Build a Random Forest, consisting of 20 Decision Tree classifer, with the following steps:\n",
        "\n",
        "1. Prepare Bootstrap data (choose randomly from the *training data*, use sampling with replacement)\n",
        "2. Choose 2-4 random features/atributes for each tree\n",
        "3. Build Decision Tree classifier using step (1) and (2)\n",
        "4. Calculate OOB score within the tree only\n",
        "\n",
        "**NOTE**\n",
        "This whole exercise has been simplified.\n",
        "- Tree can be created using a library, therefore you may not be able control the feature selection on node level\n",
        "- Random features are only selected in the beginning of each tree.\n",
        "- OOB score is only calculated within its own tree instead.\n",
        "- Typically Random Forest don't use train/test split and can be validated using OOB error. We simplify this to make it easier to test.\n",
        "- You are not allowed to use a Random Forest or Bagging library.\n"
      ]
    },
    {
      "cell_type": "code",
      "execution_count": null,
      "metadata": {
        "colab": {
          "base_uri": "https://localhost:8080/"
        },
        "id": "35DVBSeKqKCc",
        "outputId": "35b7bec1-8d04-44cf-883c-992e31ae88d3"
      },
      "outputs": [
        {
          "output_type": "stream",
          "name": "stdout",
          "text": [
            "Index(['Perimeter', 'Compactness'], dtype='object')\n",
            "Number of Root  45 OOB Score :  0.8666666666666667\n",
            "Index(['Groove_len', 'Area', 'Assymetry'], dtype='object')\n",
            "Number of Root  47 OOB Score :  0.8936170212765957\n",
            "Index(['Assymetry', 'Groove_len'], dtype='object')\n",
            "Number of Root  46 OOB Score :  0.8913043478260869\n",
            "Index(['Assymetry', 'Perimeter', 'Kernel_len'], dtype='object')\n",
            "Number of Root  43 OOB Score :  0.9069767441860465\n",
            "Index(['Groove_len', 'Kernel_len'], dtype='object')\n",
            "Number of Root  50 OOB Score :  0.96\n",
            "Index(['Groove_len', 'Perimeter'], dtype='object')\n",
            "Number of Root  41 OOB Score :  0.9024390243902439\n",
            "Index(['Groove_len', 'Kernel_width'], dtype='object')\n",
            "Number of Root  52 OOB Score :  0.8846153846153846\n",
            "Index(['Area', 'Kernel_len', 'Kernel_width'], dtype='object')\n",
            "Number of Root  46 OOB Score :  0.717391304347826\n",
            "Index(['Kernel_width', 'Compactness'], dtype='object')\n",
            "Number of Root  45 OOB Score :  0.7777777777777778\n",
            "Index(['Assymetry', 'Area', 'Kernel_len'], dtype='object')\n",
            "Number of Root  50 OOB Score :  0.78\n",
            "Index(['Assymetry', 'Kernel_width', 'Groove_len'], dtype='object')\n",
            "Number of Root  47 OOB Score :  0.7659574468085106\n",
            "Index(['Groove_len', 'Compactness', 'Assymetry'], dtype='object')\n",
            "Number of Root  53 OOB Score :  0.7924528301886793\n",
            "Index(['Area', 'Groove_len'], dtype='object')\n",
            "Number of Root  51 OOB Score :  0.8235294117647058\n",
            "Index(['Assymetry', 'Kernel_width'], dtype='object')\n",
            "Number of Root  43 OOB Score :  0.8372093023255814\n",
            "Index(['Kernel_len', 'Compactness', 'Area'], dtype='object')\n",
            "Number of Root  45 OOB Score :  0.9333333333333333\n",
            "Index(['Groove_len', 'Compactness'], dtype='object')\n",
            "Number of Root  44 OOB Score :  0.7045454545454546\n",
            "Index(['Compactness', 'Perimeter'], dtype='object')\n",
            "Number of Root  49 OOB Score :  0.7551020408163265\n",
            "Index(['Groove_len', 'Assymetry', 'Kernel_len'], dtype='object')\n",
            "Number of Root  40 OOB Score :  0.875\n",
            "Index(['Kernel_len', 'Groove_len'], dtype='object')\n",
            "Number of Root  45 OOB Score :  0.8222222222222222\n",
            "Index(['Area', 'Kernel_len'], dtype='object')\n",
            "Number of Root  51 OOB Score :  0.9411764705882353\n"
          ]
        }
      ],
      "source": [
        "np.random.seed(nim)\n",
        "n_tree = 20\n",
        "\n",
        "forest = []\n",
        "bootstrap_columns = []\n",
        "for i in range(n_tree):\n",
        "    # 1. Bootstrapping\n",
        "    # select random rows\n",
        "\n",
        "    #index rows akan dipilih secara random berdasarkan x_train\n",
        "    rows =np.random.choice(x_train.shape[0], size=x_train.shape[0], replace=True)\n",
        "    x_bts = x_train.iloc[rows, :]\n",
        "    y_bts = y_train.iloc[rows]\n",
        "    # x_bootstrap = x_train.iloc[rows]\n",
        "    # print(x_bootstrap)\n",
        "    # y_bootstrap = y_train.iloc[rows]\n",
        "\n",
        "    # Out of Bag data (data yang tidak dipilih)\n",
        "    # Merupakan sebuah metode yang digunakan untuk mengevaluasi metode Bagging dengan menggunakan data yang tidak masuk ke dalam bootstraping\n",
        "    non_selected_rows = np.setdiff1d(np.arange(x_train.shape[0]), rows)\n",
        "    x_oob =x_train.iloc[non_selected_rows, :]\n",
        "    y_oob = y_train.iloc[non_selected_rows]\n",
        "    n_oob = len(non_selected_rows)\n",
        "\n",
        "    # 2. Select random features (make sure to keep track the selected columns)\n",
        "    # Check for any repeated combinations\n",
        "    feature_taken = np.random.randint(2, 4)\n",
        "    cols = np.random.choice(x_train.shape[1], size=feature_taken, replace=False)\n",
        "    bootstrap_columns.append(cols)\n",
        "    print(x_train.columns[cols])\n",
        "\n",
        "    # filter based on the selected columns\n",
        "    x_bts = x_bts.iloc[:,cols]\n",
        "\n",
        "    # 3. Build decision tree\n",
        "    # Let it grow, no pruning\n",
        "    from sklearn.tree import DecisionTreeClassifier\n",
        "    tree_model = DecisionTreeClassifier(max_depth = None)\n",
        "    tree_model.fit(x_bts, y_bts)\n",
        "\n",
        "    # Add it to the forest\n",
        "    forest.append(tree_model)\n",
        "\n",
        "    # 4. Calculate oob score only within its own tree\n",
        "    # ....\n",
        "    from sklearn.metrics import accuracy_score\n",
        "    oob_pred = tree_model.predict(x_oob.iloc[:, cols])\n",
        "    oob_score = accuracy_score(y_oob, oob_pred)\n",
        "    print(\"Number of Root \", n_oob, \"OOB Score : \", oob_score)\n",
        "\n"
      ]
    },
    {
      "cell_type": "code",
      "source": [
        "print(x_oob)"
      ],
      "metadata": {
        "colab": {
          "base_uri": "https://localhost:8080/"
        },
        "id": "Q0ihr1KokXbp",
        "outputId": "b0d3b4cc-579b-466d-d160-c67fff454334"
      },
      "execution_count": null,
      "outputs": [
        {
          "output_type": "stream",
          "name": "stdout",
          "text": [
            "      Area  Perimeter  Compactness  Kernel_len  Kernel_width  Assymetry  \\\n",
            "171  11.55      13.10       0.8455       5.167         2.845     6.7150   \n",
            "186  11.81      13.45       0.8198       5.413         2.716     4.8980   \n",
            "0    15.26      14.84       0.8710       5.763         3.312     2.2210   \n",
            "66   14.34      14.37       0.8726       5.630         3.190     1.3130   \n",
            "123  18.43      15.97       0.9077       5.980         3.771     2.9840   \n",
            "179  12.21      13.47       0.8453       5.357         2.893     1.6610   \n",
            "150  11.83      13.23       0.8496       5.263         2.840     5.1950   \n",
            "74   16.82      15.51       0.8786       6.017         3.486     4.0040   \n",
            "32   14.09      14.41       0.8529       5.717         3.186     3.9200   \n",
            "22   15.88      14.90       0.8988       5.618         3.507     0.7651   \n",
            "145  11.21      13.13       0.8167       5.279         2.687     6.1690   \n",
            "108  19.94      16.92       0.8752       6.675         3.763     3.2520   \n",
            "36   16.20      15.27       0.8734       5.826         3.464     2.8230   \n",
            "153  11.18      13.04       0.8266       5.220         2.693     3.3320   \n",
            "202  11.18      12.72       0.8680       5.009         2.810     4.0510   \n",
            "95   16.87      15.65       0.8648       6.139         3.463     3.6960   \n",
            "115  19.06      16.45       0.8854       6.416         3.719     2.2480   \n",
            "82   20.20      16.89       0.8894       6.285         3.864     5.1730   \n",
            "206  11.23      12.88       0.8511       5.140         2.795     4.3250   \n",
            "42   13.16      13.55       0.9009       5.138         3.201     2.4610   \n",
            "131  18.94      16.32       0.8942       6.144         3.825     2.9080   \n",
            "119  20.03      16.90       0.8811       6.493         3.857     3.0630   \n",
            "44   15.11      14.54       0.8986       5.579         3.462     3.1280   \n",
            "180  11.41      12.95       0.8560       5.090         2.775     4.9570   \n",
            "130  18.30      15.89       0.9108       5.979         3.755     2.8370   \n",
            "164  11.14      12.79       0.8558       5.011         2.794     6.3880   \n",
            "37   17.08      15.38       0.9079       5.832         3.683     2.9560   \n",
            "198  12.62      13.67       0.8481       5.410         2.911     3.3060   \n",
            "111  19.38      16.72       0.8716       6.303         3.791     3.6780   \n",
            "144  11.82      13.40       0.8274       5.314         2.777     4.4710   \n",
            "88   21.18      17.21       0.8989       6.573         4.033     5.7800   \n",
            "181  12.46      13.41       0.8706       5.236         3.017     4.9870   \n",
            "68   14.37      14.39       0.8726       5.569         3.153     1.4640   \n",
            "77   20.71      17.23       0.8763       6.579         3.814     4.4510   \n",
            "67   14.01      14.29       0.8625       5.609         3.158     2.2170   \n",
            "47   14.99      14.56       0.8883       5.570         3.377     2.9580   \n",
            "196  12.79      13.53       0.8786       5.224         3.054     5.4830   \n",
            "55   15.03      14.77       0.8658       5.702         3.212     1.9330   \n",
            "15   14.59      14.28       0.8993       5.351         3.333     4.1850   \n",
            "54   14.52      14.60       0.8557       5.741         3.113     1.4810   \n",
            "26   13.02      13.76       0.8641       5.395         3.026     3.3730   \n",
            "97   18.98      16.57       0.8687       6.449         3.552     2.1440   \n",
            "100  16.41      15.25       0.8866       5.718         3.525     4.2170   \n",
            "102  19.46      16.50       0.8985       6.113         3.892     4.3080   \n",
            "96   19.31      16.59       0.8815       6.341         3.810     3.4770   \n",
            "136  17.36      15.76       0.8785       6.145         3.574     3.5260   \n",
            "124  15.99      14.89       0.9064       5.363         3.582     3.3360   \n",
            "109  18.55      16.22       0.8865       6.153         3.674     1.7380   \n",
            "33   13.94      14.17       0.8728       5.585         3.150     2.1240   \n",
            "168  11.35      13.12       0.8291       5.176         2.668     4.3370   \n",
            "90   20.10      16.99       0.8746       6.581         3.785     1.9550   \n",
            "\n",
            "     Groove_len  \n",
            "171       4.956  \n",
            "186       5.352  \n",
            "0         5.220  \n",
            "66        5.150  \n",
            "123       5.905  \n",
            "179       5.178  \n",
            "150       5.307  \n",
            "74        5.841  \n",
            "32        5.299  \n",
            "22        5.091  \n",
            "145       5.275  \n",
            "108       6.550  \n",
            "36        5.527  \n",
            "153       5.001  \n",
            "202       4.828  \n",
            "95        5.967  \n",
            "115       6.163  \n",
            "82        6.187  \n",
            "206       5.003  \n",
            "42        4.783  \n",
            "131       5.949  \n",
            "119       6.320  \n",
            "44        5.180  \n",
            "180       4.825  \n",
            "130       5.962  \n",
            "164       5.049  \n",
            "37        5.484  \n",
            "198       5.231  \n",
            "111       5.965  \n",
            "144       5.178  \n",
            "88        6.231  \n",
            "181       5.147  \n",
            "68        5.300  \n",
            "77        6.451  \n",
            "67        5.132  \n",
            "47        5.175  \n",
            "196       4.958  \n",
            "55        5.439  \n",
            "15        4.781  \n",
            "54        5.487  \n",
            "26        4.825  \n",
            "97        6.453  \n",
            "100       5.618  \n",
            "102       6.009  \n",
            "96        6.238  \n",
            "136       5.971  \n",
            "124       5.144  \n",
            "109       5.894  \n",
            "33        5.012  \n",
            "168       5.132  \n",
            "90        6.449  \n"
          ]
        }
      ]
    },
    {
      "cell_type": "code",
      "source": [
        "print(y_oob)"
      ],
      "metadata": {
        "colab": {
          "base_uri": "https://localhost:8080/"
        },
        "id": "HA_7W81BkQvC",
        "outputId": "59fec5e5-72b8-40c7-94ff-11ae01054713"
      },
      "execution_count": null,
      "outputs": [
        {
          "output_type": "stream",
          "name": "stdout",
          "text": [
            "171    3\n",
            "186    3\n",
            "0      1\n",
            "66     1\n",
            "123    2\n",
            "179    3\n",
            "150    3\n",
            "74     2\n",
            "32     1\n",
            "22     1\n",
            "145    3\n",
            "108    2\n",
            "36     1\n",
            "153    3\n",
            "202    3\n",
            "95     2\n",
            "115    2\n",
            "82     2\n",
            "206    3\n",
            "42     1\n",
            "131    2\n",
            "119    2\n",
            "44     1\n",
            "180    3\n",
            "130    2\n",
            "164    3\n",
            "37     1\n",
            "198    3\n",
            "111    2\n",
            "144    3\n",
            "88     2\n",
            "181    3\n",
            "68     1\n",
            "77     2\n",
            "67     1\n",
            "47     1\n",
            "196    3\n",
            "55     1\n",
            "15     1\n",
            "54     1\n",
            "26     1\n",
            "97     2\n",
            "100    2\n",
            "102    2\n",
            "96     2\n",
            "136    2\n",
            "124    2\n",
            "109    2\n",
            "33     1\n",
            "168    3\n",
            "90     2\n",
            "Name: Category, dtype: int64\n"
          ]
        }
      ]
    },
    {
      "cell_type": "markdown",
      "metadata": {
        "id": "I8qEEvQVqKCc"
      },
      "source": [
        "# Prediction and Voting\n",
        "Run prediction on x_test data for each tree\n",
        "\n",
        "Also calculate accuracy per tree here"
      ]
    },
    {
      "cell_type": "code",
      "execution_count": null,
      "metadata": {
        "id": "L-DfWzvzqKCc",
        "colab": {
          "base_uri": "https://localhost:8080/"
        },
        "outputId": "56447634-d42a-458f-e762-1f45fd34c221"
      },
      "outputs": [
        {
          "output_type": "stream",
          "name": "stdout",
          "text": [
            "Tree 1 Test Accuracy: 0.8214\n",
            "Tree 2 Test Accuracy: 0.9048\n",
            "Tree 3 Test Accuracy: 0.7738\n",
            "Tree 4 Test Accuracy: 0.8214\n",
            "Tree 5 Test Accuracy: 0.8571\n",
            "Tree 6 Test Accuracy: 0.9167\n",
            "Tree 7 Test Accuracy: 0.9286\n",
            "Tree 8 Test Accuracy: 0.8810\n",
            "Tree 9 Test Accuracy: 0.8571\n",
            "Tree 10 Test Accuracy: 0.8333\n",
            "Tree 11 Test Accuracy: 0.9405\n",
            "Tree 12 Test Accuracy: 0.8333\n",
            "Tree 13 Test Accuracy: 0.9167\n",
            "Tree 14 Test Accuracy: 0.8810\n",
            "Tree 15 Test Accuracy: 0.7857\n",
            "Tree 16 Test Accuracy: 0.8214\n",
            "Tree 17 Test Accuracy: 0.8333\n",
            "Tree 18 Test Accuracy: 0.8571\n",
            "Tree 19 Test Accuracy: 0.8452\n",
            "Tree 20 Test Accuracy: 0.8333\n"
          ]
        }
      ],
      "source": [
        "all_preds = []\n",
        "for i, tree_model in enumerate(forest):\n",
        "    # Each tree has different column requirements\n",
        "    # Make sure you use the correct columns for each tree\n",
        "    x_test_filtered = x_test.iloc[:,bootstrap_columns[i]]\n",
        "\n",
        "    predictions = tree_model.predict(x_test_filtered)\n",
        "\n",
        "    # Might as well calculate accuracy per tree here...\n",
        "\n",
        "    acc = accuracy_score(y_test, predictions)\n",
        "    print(f\"Tree {i+1} Test Accuracy: {acc:.4f}\")  \n",
        "\n",
        "    # add it to all_preds for voting later\n",
        "    all_preds.append(predictions)\n",
        "\n",
        "all_preds = np.array(all_preds)"
      ]
    },
    {
      "cell_type": "markdown",
      "metadata": {
        "id": "7JhKjJrrqKCd"
      },
      "source": [
        "### Perform voting on the predictions from the Random Forest"
      ]
    },
    {
      "cell_type": "code",
      "execution_count": null,
      "metadata": {
        "id": "q9A_rc-aqKCd",
        "colab": {
          "base_uri": "https://localhost:8080/"
        },
        "outputId": "3014b200-16e9-4ad7-c9e8-71c76985cfc7"
      },
      "outputs": [
        {
          "output_type": "execute_result",
          "data": {
            "text/plain": [
              "0.9523809523809523"
            ]
          },
          "metadata": {},
          "execution_count": 34
        }
      ],
      "source": [
        "# Insert voting code here\n",
        "# ...\n",
        "# ...\n",
        "\n",
        "\n",
        "voted_predictions = np.apply_along_axis(lambda x: np.argmax(np.bincount(x)), axis=0, arr=all_preds)\n",
        "# Calculate accuracy of Test data on the Forest\n",
        "acc = accuracy_score(y_test, voted_predictions)\n",
        "acc\n",
        "\n"
      ]
    },
    {
      "cell_type": "markdown",
      "metadata": {
        "id": "jqUU5mutqKCd"
      },
      "source": [
        "After you're done with all this, please check the excel file and put the answers for every column there."
      ]
    }
  ],
  "metadata": {
    "kernelspec": {
      "display_name": "Python 3.10.8 ('tugas3')",
      "language": "python",
      "name": "python3"
    },
    "language_info": {
      "codemirror_mode": {
        "name": "ipython",
        "version": 3
      },
      "file_extension": ".py",
      "mimetype": "text/x-python",
      "name": "python",
      "nbconvert_exporter": "python",
      "pygments_lexer": "ipython3",
      "version": "3.10.8"
    },
    "orig_nbformat": 4,
    "vscode": {
      "interpreter": {
        "hash": "486ee4d26de12a9ebc4c044e4309648e10037d9316726c9d112e2ad4a1fad8b4"
      }
    },
    "colab": {
      "provenance": []
    }
  },
  "nbformat": 4,
  "nbformat_minor": 0
}